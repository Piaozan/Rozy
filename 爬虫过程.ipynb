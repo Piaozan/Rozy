{
 "cells": [
  {
   "cell_type": "markdown",
   "id": "5479e117-2a2b-427e-a375-0b2bd0714d8b",
   "metadata": {},
   "source": [
    "https://www.youtube.com/watch?v=y8v_UXdBQtw\n",
    "\n",
    "https://www.youtube.com/watch?v=l1821uSA6eE\n",
    "\n",
    "https://www.youtube.com/watch?v=q5ZuIqAO1kk\n",
    "\n",
    "https://www.youtube.com/watch?v=0L244Lg0jVY\n",
    "\n",
    "https://www.youtube.com/watch?v=y152_W4jr9I\n",
    "\n",
    "https://www.youtube.com/watch?v=tnHop6WSIk8"
   ]
  },
  {
   "cell_type": "code",
   "execution_count": null,
   "id": "20ca26f1-258b-4ea9-8e81-72c0f4d862e7",
   "metadata": {},
   "outputs": [],
   "source": []
  },
  {
   "cell_type": "code",
   "execution_count": 1,
   "id": "163efc91-58ce-4ae6-bba9-e7bdf7111b4e",
   "metadata": {},
   "outputs": [],
   "source": [
    "from selenium import webdriver\n",
    "import time\n",
    "from openpyxl import Workbook\n",
    "import pandas as pd\n",
    "from selenium.webdriver.common.keys import Keys\n",
    "from bs4 import BeautifulSoup\n",
    "\n",
    "import warnings \n",
    "warnings.filterwarnings('ignore')"
   ]
  },
  {
   "cell_type": "markdown",
   "id": "d618b4c7-c250-45a3-91d0-d9a6ef6d9573",
   "metadata": {
    "tags": []
   },
   "source": [
    "# 신한 라이프 첫 광고"
   ]
  },
  {
   "cell_type": "code",
   "execution_count": 2,
   "id": "ee8e5852-00cc-4500-ac04-c780c0139c16",
   "metadata": {},
   "outputs": [],
   "source": [
    "wb = Workbook(write_only=True)\n",
    "ws = wb.create_sheet()\n",
    "\n",
    "driver = webdriver.Chrome(\"chromedriver.exe\")\n",
    "driver.get(\"https://www.youtube.com/watch?v=y8v_UXdBQtw\")\n",
    "driver.implicitly_wait(3)\n",
    "\n",
    "time.sleep(1.5)\n",
    "\n",
    "driver.execute_script(\"window.scrollTo(0, 800)\")\n",
    "time.sleep(3)"
   ]
  },
  {
   "cell_type": "code",
   "execution_count": 3,
   "id": "ee1fe0cc-50d9-4cb2-99f0-c6ff0d7eca95",
   "metadata": {},
   "outputs": [],
   "source": [
    "last_height = driver.execute_script(\"return document.documentElement.scrollHeight\")\n",
    "\n",
    "while True:\n",
    "    driver.execute_script(\"window.scrollTo(0, document.documentElement.scrollHeight);\")\n",
    "    time.sleep(1.5)\n",
    "\n",
    "    new_height = driver.execute_script(\"return document.documentElement.scrollHeight\")\n",
    "    if new_height == last_height:\n",
    "        break\n",
    "    last_height = new_height\n",
    "\n",
    "time.sleep(1.5)"
   ]
  },
  {
   "cell_type": "code",
   "execution_count": 4,
   "id": "92a77e7b-ba9a-49cf-85b9-6f14b0707d19",
   "metadata": {},
   "outputs": [],
   "source": [
    "try:\n",
    "    driver.find_element_by_css_selector(\"#dismiss-button > a\").click()\n",
    "except:\n",
    "    pass"
   ]
  },
  {
   "cell_type": "code",
   "execution_count": 5,
   "id": "dcf621f7-78f4-4687-984a-6b9d20e0ce8d",
   "metadata": {},
   "outputs": [],
   "source": [
    "# bs4 html 파싱\n",
    "html0 = driver.page_source\n",
    "html = BeautifulSoup(html0, 'html.parser')\n",
    "comments_list = html.findAll('ytd-comment-thread-renderer', {'class': 'style-scope ytd-item-section-renderer'})"
   ]
  },
  {
   "cell_type": "code",
   "execution_count": 6,
   "id": "51c65459-bdd4-4294-9771-0e863be034eb",
   "metadata": {},
   "outputs": [],
   "source": [
    "data_list = []"
   ]
  },
  {
   "cell_type": "code",
   "execution_count": 7,
   "id": "5f7c9f8c-3095-4536-acce-0418d4614d7c",
   "metadata": {},
   "outputs": [],
   "source": [
    "for j in range(len(comments_list)):\n",
    "    ## 댓글 내용\n",
    "    comment = comments_list[j].find('yt-formatted-string', {'id': 'content-text'}).text\n",
    "    comment = comment.replace('\\n', '') # 줄 바뀜 없애기\n",
    "    comment = comment.replace('\\t', '') # 탭 줄이기\n",
    "    # print(comment)\n",
    "\n",
    "    ## 유튜브 id\n",
    "    youtube_id = comments_list[j].find('a', {'id': 'author-text'}).span.text\n",
    "    youtube_id = youtube_id.replace('\\n', '') # 줄 바뀜 없애기\n",
    "    youtube_id = youtube_id.replace('\\t', '') # 탭 줄이기\n",
    "    youtube_id = youtube_id.strip()\n",
    "\n",
    "    ## 댓글 날짜\n",
    "    raw_date = comments_list[j].find('a', {\n",
    "        'class': 'yt-simple-endpoint style-scope yt-formatted-string'})\n",
    "    date = raw_date.text\n",
    "    \n",
    "    ## 댓글 좋아요 개수 (0인 경우 예외 처리)\n",
    "    try:\n",
    "        like_num = comments_list[j].find('span',\n",
    "                                     {'id': 'vote-count-middle',\n",
    "                                      'class': 'style-scope ytd-comment-action-buttons-renderer'}).text\n",
    "        like_num = like_num.replace('\\n', '') # 줄 바뀜 없애기\n",
    "        like_num = like_num.replace('\\t', '') # 탭 줄이기\n",
    "        like_num = like_num.strip()\n",
    "    except:\n",
    "        like_num = 0\n",
    "\n",
    "    data = {'comment': comment, 'youtube_id': youtube_id, 'date': date, 'like_num': like_num}\n",
    "    data_list.append(data)\n",
    "    # print(data)\n",
    "\n"
   ]
  },
  {
   "cell_type": "code",
   "execution_count": 8,
   "id": "af09903a-10aa-4a37-99d0-03eaa99c679a",
   "metadata": {},
   "outputs": [],
   "source": [
    "result_df = pd.DataFrame(data_list,\n",
    "                         columns=['comment','youtube_id','date','like_num'])\n",
    "result_df.to_excel('신한라이프_라이프광고.xlsx', index=False)\n",
    "# driver.close()"
   ]
  },
  {
   "cell_type": "code",
   "execution_count": null,
   "id": "45f3267b-2c98-4ee4-b323-56e592261cb4",
   "metadata": {},
   "outputs": [],
   "source": []
  },
  {
   "cell_type": "markdown",
   "id": "d8ca20b9-8a3b-4c9e-ac9c-513907fb27b0",
   "metadata": {
    "jp-MarkdownHeadingCollapsed": true,
    "tags": []
   },
   "source": [
    "# 신한 라이프 첫 광고 노래 원곡"
   ]
  },
  {
   "cell_type": "code",
   "execution_count": 2,
   "id": "e683760c-3b0c-4fb6-92c4-709dcbbf0cb1",
   "metadata": {},
   "outputs": [],
   "source": [
    "wb = Workbook(write_only=True)\n",
    "ws = wb.create_sheet()\n",
    "\n",
    "driver = webdriver.Chrome(\"chromedriver.exe\")\n",
    "driver.get(\"https://www.youtube.com/watch?v=l1821uSA6eE\")\n",
    "driver.implicitly_wait(3)\n",
    "\n",
    "time.sleep(1.5)\n",
    "\n",
    "driver.execute_script(\"window.scrollTo(0, 1000)\")\n",
    "time.sleep(3)"
   ]
  },
  {
   "cell_type": "code",
   "execution_count": 4,
   "id": "5d7df50e-4fd7-464a-9366-138ea8bd1d96",
   "metadata": {},
   "outputs": [],
   "source": [
    "last_height = driver.execute_script(\"return document.documentElement.scrollHeight\")\n",
    "\n",
    "while True:\n",
    "    driver.execute_script(\"window.scrollTo(0, document.documentElement.scrollHeight);\")\n",
    "    time.sleep(1.5)\n",
    "\n",
    "    new_height = driver.execute_script(\"return document.documentElement.scrollHeight\")\n",
    "    if new_height == last_height:\n",
    "        break\n",
    "    last_height = new_height\n",
    "\n",
    "time.sleep(1.5)"
   ]
  },
  {
   "cell_type": "code",
   "execution_count": 5,
   "id": "1d365942-cde5-4417-b7bc-7fc3dc1fa7e4",
   "metadata": {},
   "outputs": [],
   "source": [
    "try:\n",
    "    driver.find_element_by_css_selector(\"#dismiss-button > a\").click()\n",
    "except:\n",
    "    pass"
   ]
  },
  {
   "cell_type": "code",
   "execution_count": 6,
   "id": "edc41d09-81b5-4505-9591-517dd2ba6a2f",
   "metadata": {},
   "outputs": [],
   "source": [
    "# bs4 html 파싱\n",
    "html0 = driver.page_source\n",
    "html = BeautifulSoup(html0, 'html.parser')\n",
    "comments_list = html.findAll('ytd-comment-thread-renderer', {'class': 'style-scope ytd-item-section-renderer'})"
   ]
  },
  {
   "cell_type": "code",
   "execution_count": 7,
   "id": "28da93f8-1495-470e-ab74-cb243eb1cd66",
   "metadata": {},
   "outputs": [],
   "source": [
    "data_list = []"
   ]
  },
  {
   "cell_type": "code",
   "execution_count": 8,
   "id": "0dfc7eda-794a-4923-9185-71083b9b1d64",
   "metadata": {},
   "outputs": [],
   "source": [
    "for j in range(len(comments_list)):\n",
    "    ## 댓글 내용\n",
    "    comment = comments_list[j].find('yt-formatted-string', {'id': 'content-text'}).text\n",
    "    comment = comment.replace('\\n', '') # 줄 바뀜 없애기\n",
    "    comment = comment.replace('\\t', '') # 탭 줄이기\n",
    "    # print(comment)\n",
    "\n",
    "    ## 유튜브 id\n",
    "    youtube_id = comments_list[j].find('a', {'id': 'author-text'}).span.text\n",
    "    youtube_id = youtube_id.replace('\\n', '') # 줄 바뀜 없애기\n",
    "    youtube_id = youtube_id.replace('\\t', '') # 탭 줄이기\n",
    "    youtube_id = youtube_id.strip()\n",
    "\n",
    "    ## 댓글 날짜\n",
    "    raw_date = comments_list[j].find('a', {\n",
    "        'class': 'yt-simple-endpoint style-scope yt-formatted-string'})\n",
    "    date = raw_date.text\n",
    "    \n",
    "    ## 댓글 좋아요 개수 (0인 경우 예외 처리)\n",
    "    try:\n",
    "        like_num = comments_list[j].find('span',\n",
    "                                     {'id': 'vote-count-middle',\n",
    "                                      'class': 'style-scope ytd-comment-action-buttons-renderer'}).text\n",
    "        like_num = like_num.replace('\\n', '') # 줄 바뀜 없애기\n",
    "        like_num = like_num.replace('\\t', '') # 탭 줄이기\n",
    "        like_num = like_num.strip()\n",
    "    except:\n",
    "        like_num = 0\n",
    "\n",
    "    data = {'comment': comment, 'youtube_id': youtube_id, 'date': date, 'like_num': like_num}\n",
    "    data_list.append(data)\n",
    "    # print(data)\n",
    "\n"
   ]
  },
  {
   "cell_type": "code",
   "execution_count": 9,
   "id": "3c0d10f5-6300-4452-8457-5370296ffbb3",
   "metadata": {},
   "outputs": [],
   "source": [
    "result_df = pd.DataFrame(data_list,\n",
    "                         columns=['comment','youtube_id','date','like_num'])\n",
    "result_df.to_excel('신한라이프_라이프광고_노래원곡.xlsx', index=False)\n",
    "# driver.close()"
   ]
  },
  {
   "cell_type": "markdown",
   "id": "fb8e768c-cc15-47e0-9284-996b5e049368",
   "metadata": {
    "tags": []
   },
   "source": [
    "# 신한 라이프 ask me 광고"
   ]
  },
  {
   "cell_type": "code",
   "execution_count": 2,
   "id": "b90c08a9-5034-440f-91b7-c882da7cec7f",
   "metadata": {},
   "outputs": [],
   "source": [
    "wb = Workbook(write_only=True)\n",
    "ws = wb.create_sheet()\n",
    "\n",
    "driver = webdriver.Chrome(\"chromedriver.exe\")\n",
    "driver.get(\"https://www.youtube.com/watch?v=q5ZuIqAO1kk\")\n",
    "driver.implicitly_wait(3)\n",
    "\n",
    "time.sleep(1.5)\n",
    "\n",
    "driver.execute_script(\"window.scrollTo(0, 1000)\")\n",
    "time.sleep(3)"
   ]
  },
  {
   "cell_type": "code",
   "execution_count": 3,
   "id": "4cdb754d-0080-4e60-a8e4-f63b1b80e2fb",
   "metadata": {},
   "outputs": [],
   "source": [
    "last_height = driver.execute_script(\"return document.documentElement.scrollHeight\")\n",
    "\n",
    "while True:\n",
    "    driver.execute_script(\"window.scrollTo(0, document.documentElement.scrollHeight);\")\n",
    "    time.sleep(1.5)\n",
    "\n",
    "    new_height = driver.execute_script(\"return document.documentElement.scrollHeight\")\n",
    "    if new_height == last_height:\n",
    "        break\n",
    "    last_height = new_height\n",
    "\n",
    "time.sleep(1.5)"
   ]
  },
  {
   "cell_type": "code",
   "execution_count": 4,
   "id": "c85cd404-b75b-47a0-8bd8-991dbf35943c",
   "metadata": {},
   "outputs": [],
   "source": [
    "try:\n",
    "    driver.find_element_by_css_selector(\"#dismiss-button > a\").click()\n",
    "except:\n",
    "    pass"
   ]
  },
  {
   "cell_type": "code",
   "execution_count": 4,
   "id": "7ec40968-6f96-481a-a688-728230d125eb",
   "metadata": {},
   "outputs": [],
   "source": [
    "# bs4 html 파싱\n",
    "html0 = driver.page_source\n",
    "html = BeautifulSoup(html0, 'html.parser')\n",
    "comments_list = html.findAll('ytd-comment-thread-renderer', {'class': 'style-scope ytd-item-section-renderer'})"
   ]
  },
  {
   "cell_type": "code",
   "execution_count": 5,
   "id": "e39cd82f-b515-4a9e-992b-ca145be9cd02",
   "metadata": {},
   "outputs": [],
   "source": [
    "data_list = []"
   ]
  },
  {
   "cell_type": "code",
   "execution_count": 6,
   "id": "7cbbc17b-26be-4991-b7d3-4c15ff62277c",
   "metadata": {},
   "outputs": [],
   "source": [
    "for j in range(len(comments_list)):\n",
    "    ## 댓글 내용\n",
    "    comment = comments_list[j].find('yt-formatted-string', {'id': 'content-text'}).text\n",
    "    comment = comment.replace('\\n', '') # 줄 바뀜 없애기\n",
    "    comment = comment.replace('\\t', '') # 탭 줄이기\n",
    "    # print(comment)\n",
    "\n",
    "    ## 유튜브 id\n",
    "    youtube_id = comments_list[j].find('a', {'id': 'author-text'}).span.text\n",
    "    youtube_id = youtube_id.replace('\\n', '') # 줄 바뀜 없애기\n",
    "    youtube_id = youtube_id.replace('\\t', '') # 탭 줄이기\n",
    "    youtube_id = youtube_id.strip()\n",
    "\n",
    "    ## 댓글 날짜\n",
    "    raw_date = comments_list[j].find('a', {\n",
    "        'class': 'yt-simple-endpoint style-scope yt-formatted-string'})\n",
    "    date = raw_date.text\n",
    "    \n",
    "    ## 댓글 좋아요 개수 (0인 경우 예외 처리)\n",
    "    try:\n",
    "        like_num = comments_list[j].find('span',\n",
    "                                     {'id': 'vote-count-middle',\n",
    "                                      'class': 'style-scope ytd-comment-action-buttons-renderer'}).text\n",
    "        like_num = like_num.replace('\\n', '') # 줄 바뀜 없애기\n",
    "        like_num = like_num.replace('\\t', '') # 탭 줄이기\n",
    "        like_num = like_num.strip()\n",
    "    except:\n",
    "        like_num = 0\n",
    "\n",
    "    data = {'comment': comment, 'youtube_id': youtube_id, 'date': date, 'like_num': like_num}\n",
    "    data_list.append(data)\n",
    "    # print(data)\n",
    "\n"
   ]
  },
  {
   "cell_type": "code",
   "execution_count": 7,
   "id": "e7e80638-9b9c-4c6a-973c-d6a52d4ae63a",
   "metadata": {},
   "outputs": [],
   "source": [
    "result_df = pd.DataFrame(data_list,\n",
    "                         columns=['comment','youtube_id','date','like_num'])\n",
    "result_df.to_excel('신한라이프_askme광고.xlsx', index=False)\n",
    "# driver.close()"
   ]
  },
  {
   "cell_type": "markdown",
   "id": "e3871bc1-cc68-43a1-963d-3a4c923f3cc5",
   "metadata": {
    "jp-MarkdownHeadingCollapsed": true,
    "tags": []
   },
   "source": [
    "# 신한 라이프 ask me 노래 원곡"
   ]
  },
  {
   "cell_type": "code",
   "execution_count": 2,
   "id": "e913894e-bf36-4481-b254-4006bddb46c1",
   "metadata": {},
   "outputs": [],
   "source": [
    "wb = Workbook(write_only=True)\n",
    "ws = wb.create_sheet()\n",
    "\n",
    "driver = webdriver.Chrome(\"chromedriver.exe\")\n",
    "driver.get(\"https://www.youtube.com/watch?v=0L244Lg0jVY\")\n",
    "driver.implicitly_wait(3)\n",
    "\n",
    "time.sleep(1.5)\n",
    "\n",
    "driver.execute_script(\"window.scrollTo(0, 1000)\")\n",
    "time.sleep(3)"
   ]
  },
  {
   "cell_type": "code",
   "execution_count": 4,
   "id": "32d82bed-ed68-4aa3-aa2e-094273db66b7",
   "metadata": {},
   "outputs": [],
   "source": [
    "last_height = driver.execute_script(\"return document.documentElement.scrollHeight\")\n",
    "\n",
    "while True:\n",
    "    driver.execute_script(\"window.scrollTo(0, document.documentElement.scrollHeight);\")\n",
    "    time.sleep(1.5)\n",
    "\n",
    "    new_height = driver.execute_script(\"return document.documentElement.scrollHeight\")\n",
    "    if new_height == last_height:\n",
    "        break\n",
    "    last_height = new_height\n",
    "\n",
    "time.sleep(1.5)"
   ]
  },
  {
   "cell_type": "code",
   "execution_count": 5,
   "id": "2b4f45c3-f981-437b-a738-7d030c6adc08",
   "metadata": {},
   "outputs": [],
   "source": [
    "try:\n",
    "    driver.find_element_by_css_selector(\"#dismiss-button > a\").click()\n",
    "except:\n",
    "    pass"
   ]
  },
  {
   "cell_type": "code",
   "execution_count": 6,
   "id": "13b1c8ac-f871-4a78-b918-9ce33669f4ee",
   "metadata": {},
   "outputs": [],
   "source": [
    "# bs4 html 파싱\n",
    "html0 = driver.page_source\n",
    "html = BeautifulSoup(html0, 'html.parser')\n",
    "comments_list = html.findAll('ytd-comment-thread-renderer', {'class': 'style-scope ytd-item-section-renderer'})"
   ]
  },
  {
   "cell_type": "code",
   "execution_count": 7,
   "id": "e11bd31e-6432-4610-8b9e-743f9f50048a",
   "metadata": {},
   "outputs": [],
   "source": [
    "data_list = []"
   ]
  },
  {
   "cell_type": "code",
   "execution_count": 8,
   "id": "b407bc05-9e5f-4912-bbc2-cd8ab69f55f2",
   "metadata": {},
   "outputs": [],
   "source": [
    "for j in range(len(comments_list)):\n",
    "    ## 댓글 내용\n",
    "    comment = comments_list[j].find('yt-formatted-string', {'id': 'content-text'}).text\n",
    "    comment = comment.replace('\\n', '') # 줄 바뀜 없애기\n",
    "    comment = comment.replace('\\t', '') # 탭 줄이기\n",
    "    # print(comment)\n",
    "\n",
    "    ## 유튜브 id\n",
    "    youtube_id = comments_list[j].find('a', {'id': 'author-text'}).span.text\n",
    "    youtube_id = youtube_id.replace('\\n', '') # 줄 바뀜 없애기\n",
    "    youtube_id = youtube_id.replace('\\t', '') # 탭 줄이기\n",
    "    youtube_id = youtube_id.strip()\n",
    "\n",
    "    ## 댓글 날짜\n",
    "    raw_date = comments_list[j].find('a', {\n",
    "        'class': 'yt-simple-endpoint style-scope yt-formatted-string'})\n",
    "    date = raw_date.text\n",
    "    \n",
    "    ## 댓글 좋아요 개수 (0인 경우 예외 처리)\n",
    "    try:\n",
    "        like_num = comments_list[j].find('span',\n",
    "                                     {'id': 'vote-count-middle',\n",
    "                                      'class': 'style-scope ytd-comment-action-buttons-renderer'}).text\n",
    "        like_num = like_num.replace('\\n', '') # 줄 바뀜 없애기\n",
    "        like_num = like_num.replace('\\t', '') # 탭 줄이기\n",
    "        like_num = like_num.strip()\n",
    "    except:\n",
    "        like_num = 0\n",
    "\n",
    "    data = {'comment': comment, 'youtube_id': youtube_id, 'date': date, 'like_num': like_num}\n",
    "    data_list.append(data)\n",
    "    # print(data)\n",
    "\n"
   ]
  },
  {
   "cell_type": "code",
   "execution_count": 9,
   "id": "bba7ceef-2149-403a-b907-b63d9437f437",
   "metadata": {},
   "outputs": [],
   "source": [
    "result_df = pd.DataFrame(data_list,\n",
    "                         columns=['comment','youtube_id','date','like_num'])\n",
    "result_df.to_excel('신한라이프_askme_노래원곡.xlsx', index=False)\n",
    "# driver.close()"
   ]
  },
  {
   "cell_type": "code",
   "execution_count": null,
   "id": "86efa6be-7487-4442-a15b-4ec7978bec11",
   "metadata": {},
   "outputs": [],
   "source": []
  },
  {
   "cell_type": "code",
   "execution_count": null,
   "id": "dc855b8f-687a-4f72-8a3a-1b6a805810fa",
   "metadata": {},
   "outputs": [],
   "source": []
  },
  {
   "cell_type": "markdown",
   "id": "9e40b61e-95de-43fb-8f7b-ff03643ca269",
   "metadata": {
    "jp-MarkdownHeadingCollapsed": true,
    "tags": []
   },
   "source": [
    "# Rozy - Who am I"
   ]
  },
  {
   "cell_type": "code",
   "execution_count": 2,
   "id": "d4286a03-bba3-4a8a-b9ad-171edbc1d52a",
   "metadata": {},
   "outputs": [],
   "source": [
    "wb = Workbook(write_only=True)\n",
    "ws = wb.create_sheet()\n",
    "\n",
    "driver = webdriver.Chrome(\"chromedriver.exe\")\n",
    "driver.get(\"https://www.youtube.com/watch?v=y152_W4jr9I\")\n",
    "driver.implicitly_wait(3)\n",
    "\n",
    "time.sleep(1.5)\n",
    "\n",
    "driver.execute_script(\"window.scrollTo(0, 1000)\")\n",
    "time.sleep(3)"
   ]
  },
  {
   "cell_type": "code",
   "execution_count": 3,
   "id": "64d35a86-6ffb-40be-9d8e-ca2aa9577587",
   "metadata": {},
   "outputs": [],
   "source": [
    "last_height = driver.execute_script(\"return document.documentElement.scrollHeight\")\n",
    "\n",
    "while True:\n",
    "    driver.execute_script(\"window.scrollTo(0, document.documentElement.scrollHeight);\")\n",
    "    time.sleep(1.5)\n",
    "\n",
    "    new_height = driver.execute_script(\"return document.documentElement.scrollHeight\")\n",
    "    if new_height == last_height:\n",
    "        break\n",
    "    last_height = new_height\n",
    "\n",
    "time.sleep(1.5)"
   ]
  },
  {
   "cell_type": "code",
   "execution_count": 4,
   "id": "8b3cec75-a2c8-4d37-9e10-11e8530263f4",
   "metadata": {},
   "outputs": [],
   "source": [
    "try:\n",
    "    driver.find_element_by_css_selector(\"#dismiss-button > a\").click()\n",
    "except:\n",
    "    pass"
   ]
  },
  {
   "cell_type": "code",
   "execution_count": 5,
   "id": "c7799c8e-4f54-453d-9fc2-e6af955b2d1e",
   "metadata": {},
   "outputs": [],
   "source": [
    "# bs4 html 파싱\n",
    "html0 = driver.page_source\n",
    "html = BeautifulSoup(html0, 'html.parser')\n",
    "comments_list = html.findAll('ytd-comment-thread-renderer', {'class': 'style-scope ytd-item-section-renderer'})"
   ]
  },
  {
   "cell_type": "code",
   "execution_count": 6,
   "id": "45773862-3797-40ab-9e9b-ae645eef7cdb",
   "metadata": {},
   "outputs": [],
   "source": [
    "data_list = []"
   ]
  },
  {
   "cell_type": "code",
   "execution_count": 7,
   "id": "14dac85d-fcfc-4607-8ab6-2ee63b2c095f",
   "metadata": {},
   "outputs": [],
   "source": [
    "for j in range(len(comments_list)):\n",
    "    ## 댓글 내용\n",
    "    comment = comments_list[j].find('yt-formatted-string', {'id': 'content-text'}).text\n",
    "    comment = comment.replace('\\n', '') # 줄 바뀜 없애기\n",
    "    comment = comment.replace('\\t', '') # 탭 줄이기\n",
    "    # print(comment)\n",
    "\n",
    "    ## 유튜브 id\n",
    "    youtube_id = comments_list[j].find('a', {'id': 'author-text'}).span.text\n",
    "    youtube_id = youtube_id.replace('\\n', '') # 줄 바뀜 없애기\n",
    "    youtube_id = youtube_id.replace('\\t', '') # 탭 줄이기\n",
    "    youtube_id = youtube_id.strip()\n",
    "\n",
    "    ## 댓글 날짜\n",
    "    raw_date = comments_list[j].find('a', {\n",
    "        'class': 'yt-simple-endpoint style-scope yt-formatted-string'})\n",
    "    date = raw_date.text\n",
    "    \n",
    "    ## 댓글 좋아요 개수 (0인 경우 예외 처리)\n",
    "    try:\n",
    "        like_num = comments_list[j].find('span',\n",
    "                                     {'id': 'vote-count-middle',\n",
    "                                      'class': 'style-scope ytd-comment-action-buttons-renderer'}).text\n",
    "        like_num = like_num.replace('\\n', '') # 줄 바뀜 없애기\n",
    "        like_num = like_num.replace('\\t', '') # 탭 줄이기\n",
    "        like_num = like_num.strip()\n",
    "    except:\n",
    "        like_num = 0\n",
    "\n",
    "    data = {'comment': comment, 'youtube_id': youtube_id, 'date': date, 'like_num': like_num}\n",
    "    data_list.append(data)\n",
    "    # print(data)\n",
    "\n"
   ]
  },
  {
   "cell_type": "code",
   "execution_count": 8,
   "id": "1ee823c1-1966-41ec-9ceb-af1d4c3cfe6c",
   "metadata": {},
   "outputs": [],
   "source": [
    "result_df = pd.DataFrame(data_list,\n",
    "                         columns=['comment','youtube_id','date','like_num'])\n",
    "result_df.to_excel('Rozy_who_am_i.xlsx', index=False)\n",
    "# driver.close()"
   ]
  },
  {
   "cell_type": "code",
   "execution_count": null,
   "id": "bd3b59b4-d7db-464a-bf07-129b506bc57a",
   "metadata": {},
   "outputs": [],
   "source": []
  },
  {
   "cell_type": "markdown",
   "id": "560127ef-5c83-409a-ba4e-2471c6175dcf",
   "metadata": {
    "jp-MarkdownHeadingCollapsed": true,
    "tags": []
   },
   "source": [
    "# Rozy - To the sea"
   ]
  },
  {
   "cell_type": "code",
   "execution_count": 2,
   "id": "1a930ebd-218c-465c-98bd-a612f83aaa8c",
   "metadata": {},
   "outputs": [],
   "source": [
    "wb = Workbook(write_only=True)\n",
    "ws = wb.create_sheet()\n",
    "\n",
    "driver = webdriver.Chrome(\"chromedriver.exe\")\n",
    "driver.get(\"https://www.youtube.com/watch?v=tnHop6WSIk8\")\n",
    "driver.implicitly_wait(3)\n",
    "\n",
    "time.sleep(1.5)\n",
    "\n",
    "driver.execute_script(\"window.scrollTo(0, 1000)\")\n",
    "time.sleep(3)"
   ]
  },
  {
   "cell_type": "code",
   "execution_count": 4,
   "id": "bf2ce863-4bbc-43a6-b07e-ec155625335d",
   "metadata": {},
   "outputs": [],
   "source": [
    "last_height = driver.execute_script(\"return document.documentElement.scrollHeight\")\n",
    "\n",
    "while True:\n",
    "    driver.execute_script(\"window.scrollTo(0, document.documentElement.scrollHeight);\")\n",
    "    time.sleep(1.5)\n",
    "\n",
    "    new_height = driver.execute_script(\"return document.documentElement.scrollHeight\")\n",
    "    if new_height == last_height:\n",
    "        break\n",
    "    last_height = new_height\n",
    "\n",
    "time.sleep(1.5)"
   ]
  },
  {
   "cell_type": "code",
   "execution_count": 5,
   "id": "d0552d3b-4951-4cc6-8f8a-6eedb39e7c70",
   "metadata": {},
   "outputs": [],
   "source": [
    "try:\n",
    "    driver.find_element_by_css_selector(\"#dismiss-button > a\").click()\n",
    "except:\n",
    "    pass"
   ]
  },
  {
   "cell_type": "code",
   "execution_count": 6,
   "id": "75816e50-a29c-498d-9d82-51b21343b70d",
   "metadata": {},
   "outputs": [],
   "source": [
    "# bs4 html 파싱\n",
    "html0 = driver.page_source\n",
    "html = BeautifulSoup(html0, 'html.parser')\n",
    "comments_list = html.findAll('ytd-comment-thread-renderer', {'class': 'style-scope ytd-item-section-renderer'})"
   ]
  },
  {
   "cell_type": "code",
   "execution_count": 7,
   "id": "ddd39548-3358-48e8-b358-ac520c831a3d",
   "metadata": {},
   "outputs": [],
   "source": [
    "data_list = []"
   ]
  },
  {
   "cell_type": "code",
   "execution_count": 8,
   "id": "2d4f3acd-7521-40f7-9996-70e05b228b12",
   "metadata": {},
   "outputs": [],
   "source": [
    "for j in range(len(comments_list)):\n",
    "    ## 댓글 내용\n",
    "    comment = comments_list[j].find('yt-formatted-string', {'id': 'content-text'}).text\n",
    "    comment = comment.replace('\\n', '') # 줄 바뀜 없애기\n",
    "    comment = comment.replace('\\t', '') # 탭 줄이기\n",
    "    # print(comment)\n",
    "\n",
    "    ## 유튜브 id\n",
    "    youtube_id = comments_list[j].find('a', {'id': 'author-text'}).span.text\n",
    "    youtube_id = youtube_id.replace('\\n', '') # 줄 바뀜 없애기\n",
    "    youtube_id = youtube_id.replace('\\t', '') # 탭 줄이기\n",
    "    youtube_id = youtube_id.strip()\n",
    "\n",
    "    ## 댓글 날짜\n",
    "    raw_date = comments_list[j].find('a', {\n",
    "        'class': 'yt-simple-endpoint style-scope yt-formatted-string'})\n",
    "    date = raw_date.text\n",
    "    \n",
    "    ## 댓글 좋아요 개수 (0인 경우 예외 처리)\n",
    "    try:\n",
    "        like_num = comments_list[j].find('span',\n",
    "                                     {'id': 'vote-count-middle',\n",
    "                                      'class': 'style-scope ytd-comment-action-buttons-renderer'}).text\n",
    "        like_num = like_num.replace('\\n', '') # 줄 바뀜 없애기\n",
    "        like_num = like_num.replace('\\t', '') # 탭 줄이기\n",
    "        like_num = like_num.strip()\n",
    "    except:\n",
    "        like_num = 0\n",
    "\n",
    "    data = {'comment': comment, 'youtube_id': youtube_id, 'date': date, 'like_num': like_num}\n",
    "    data_list.append(data)\n",
    "    # print(data)\n",
    "\n"
   ]
  },
  {
   "cell_type": "code",
   "execution_count": 9,
   "id": "ec04de80-e993-4ab3-ae9c-18c2fb9fa13f",
   "metadata": {},
   "outputs": [],
   "source": [
    "result_df = pd.DataFrame(data_list,\n",
    "                         columns=['comment','youtube_id','date','like_num'])\n",
    "result_df.to_excel('Rozy_to_the_sea.xlsx', index=False)\n",
    "# driver.close()"
   ]
  },
  {
   "cell_type": "code",
   "execution_count": null,
   "id": "113ebf43-65bb-4526-865b-f2ca4264736e",
   "metadata": {},
   "outputs": [],
   "source": []
  }
 ],
 "metadata": {
  "kernelspec": {
   "display_name": "Python 3 (ipykernel)",
   "language": "python",
   "name": "python3"
  },
  "language_info": {
   "codemirror_mode": {
    "name": "ipython",
    "version": 3
   },
   "file_extension": ".py",
   "mimetype": "text/x-python",
   "name": "python",
   "nbconvert_exporter": "python",
   "pygments_lexer": "ipython3",
   "version": "3.9.12"
  }
 },
 "nbformat": 4,
 "nbformat_minor": 5
}
